{
 "cells": [
  {
   "cell_type": "code",
   "execution_count": 3,
   "metadata": {},
   "outputs": [
    {
     "name": "stdout",
     "output_type": "stream",
     "text": [
      "       galaxySentiment\n",
      "0                    0\n",
      "1                   22\n",
      "2                    0\n",
      "3                    0\n",
      "4                   53\n",
      "5                    0\n",
      "6                    0\n",
      "7                    0\n",
      "8                    0\n",
      "9                    0\n",
      "10                   0\n",
      "11                   0\n",
      "12                  66\n",
      "13                   0\n",
      "14                   0\n",
      "15                   0\n",
      "16                   0\n",
      "17                  30\n",
      "18                   0\n",
      "19                   0\n",
      "20                   0\n",
      "21                   0\n",
      "22                   0\n",
      "23                   0\n",
      "24                   0\n",
      "25                   0\n",
      "26                   0\n",
      "27                   0\n",
      "28                   0\n",
      "29                   0\n",
      "...                ...\n",
      "21822                0\n",
      "21823                2\n",
      "21824                0\n",
      "21825                0\n",
      "21826                0\n",
      "21827                0\n",
      "21828                0\n",
      "21829               20\n",
      "21830                0\n",
      "21831                0\n",
      "21832                0\n",
      "21833                0\n",
      "21834                0\n",
      "21835               66\n",
      "21836                0\n",
      "21837                0\n",
      "21838               11\n",
      "21839                0\n",
      "21840               66\n",
      "21841                0\n",
      "21842                0\n",
      "21843                0\n",
      "21844                0\n",
      "21845                0\n",
      "21846                0\n",
      "21847                0\n",
      "21848                0\n",
      "21849                0\n",
      "21850                0\n",
      "21851                0\n",
      "\n",
      "[21852 rows x 1 columns]\n"
     ]
    }
   ],
   "source": [
    "# Load Sample CSV FILE\n",
    "# April 9\n",
    "\n",
    "# Make sure file is in the correct location first\n",
    "\n",
    "# Read CSV Delimited Format\n",
    "import pandas as pd\n",
    "galaxyAug = pd.io.parsers.read_csv(\"GalaxyLargeMatrixAug.csv\")\n",
    "sent = galaxyAug[['galaxySentiment']]\n",
    "print(sent)\n"
   ]
  },
  {
   "cell_type": "code",
   "execution_count": null,
   "metadata": {},
   "outputs": [],
   "source": []
  }
 ],
 "metadata": {
  "kernelspec": {
   "display_name": "Python 3",
   "language": "python",
   "name": "python3"
  },
  "language_info": {
   "codemirror_mode": {
    "name": "ipython",
    "version": 3
   },
   "file_extension": ".py",
   "mimetype": "text/x-python",
   "name": "python",
   "nbconvert_exporter": "python",
   "pygments_lexer": "ipython3",
   "version": "3.6.4"
  }
 },
 "nbformat": 4,
 "nbformat_minor": 2
}
